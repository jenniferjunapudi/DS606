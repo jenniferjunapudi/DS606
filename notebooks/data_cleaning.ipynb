{
 "cells": [
  {
   "cell_type": "markdown",
   "id": "4cd1070e-d031-4fcd-b38e-3adda1c39410",
   "metadata": {},
   "source": [
    "### IMPORTING PACKAGES"
   ]
  },
  {
   "cell_type": "code",
   "execution_count": 1,
   "id": "17d189ba-6a97-49e6-8e8e-d7c287ebca59",
   "metadata": {},
   "outputs": [],
   "source": [
    "from pyspark.sql import SparkSession\n",
    "from pyspark.sql import Window\n",
    "from pyspark.sql import DataFrame\n",
    "import pandas as pd\n",
    "from pyspark.sql.functions import (\n",
    "    min, max, year, month, col, isnan, isnull, when, count, countDistinct, \n",
    "    round, desc, sum as sum_, mean, stddev, variance, skewness, kurtosis, \n",
    "    explode, split, regexp_replace, to_timestamp, to_date, lit, datediff, current_date\n",
    ")\n",
    "from pyspark.sql.types import StringType\n",
    "import matplotlib.pyplot as plt\n",
    "from functools import reduce\n",
    "from pyspark.sql import functions as F\n",
    "from pyspark.ml import Pipeline\n",
    "from pyspark.ml.feature import StringIndexer, OneHotEncoder, VectorAssembler, StandardScaler\n",
    "from pyspark.sql.window import Window\n",
    "from pyspark.sql.functions import create_map, lit\n",
    "from itertools import chain\n",
    "from pyspark.sql.functions import avg as F_avg\n",
    "from pyspark.sql.functions import sum as F_sum\n",
    "from pyspark.sql.functions import count as F_count\n",
    "from pyspark.sql.functions import col, round as F_round\n",
    "from pyspark.sql.functions import log1p \n",
    "import seaborn as sns\n",
    "from pyspark.ml.stat import Correlation\n",
    "import numpy as np\n",
    "import pylab as pl\n",
    "from pyspark.ml.linalg import Vectors\n",
    "\n",
    "import warnings\n",
    "\n",
    "# Suppress all warnings\n",
    "warnings.filterwarnings(\"ignore\")"
   ]
  },
  {
   "cell_type": "code",
   "execution_count": 2,
   "id": "4a195079-05bb-4340-8d0b-417103b3460f",
   "metadata": {},
   "outputs": [
    {
     "name": "stdout",
     "output_type": "stream",
     "text": [
      "C:\\Users\\june3\\Downloads\\SDWA\n"
     ]
    }
   ],
   "source": [
    "# Changing the directory to a specific location\n",
    "%cd C:\\Users\\june3\\Downloads\\SDWA\\"
   ]
  },
  {
   "cell_type": "markdown",
   "id": "613dacd6-8e19-4b1f-a2af-401c8883bc99",
   "metadata": {},
   "source": [
    "### CREATE SPARK SESSION"
   ]
  },
  {
   "cell_type": "code",
   "execution_count": 3,
   "id": "9ee6a7e3-266e-44f3-aae1-82196582fa40",
   "metadata": {},
   "outputs": [],
   "source": [
    "# Create a SparkSession\n",
    "spark = SparkSession.builder \\\n",
    "    .appName(\"SDWA DATA ANALYSIS\") \\\n",
    "    .getOrCreate()\n",
    "\n",
    "# Define file paths and read each CSV file into a DataFrame\n",
    "file_paths = [\"SDWA_PUB_WATER_SYSTEMS.csv\",\n",
    "              \"SDWA_SITE_VISITS.csv\", \n",
    "              \"SDWA_VIOLATIONS_ENFORCEMENT.csv\"]\n"
   ]
  },
  {
   "cell_type": "markdown",
   "id": "29e9b997-9158-4e03-9483-df26ea750908",
   "metadata": {},
   "source": [
    "### LOADING .CSV FILES AND READING INTO SPARK DATAFRAMES"
   ]
  },
  {
   "cell_type": "code",
   "execution_count": 4,
   "id": "cf5cab96-4f84-4752-8eeb-6af13f0eaf82",
   "metadata": {},
   "outputs": [],
   "source": [
    "# Step 2: Read all CSV files into a list of Spark DataFrames\n",
    "dfs = [spark.read.csv(file_path, header=True, inferSchema=True) for file_path in file_paths]\n",
    "\n",
    "# Step 3: Unpack the DataFrames to individual variables\n",
    "df1, df2, df3 = dfs"
   ]
  },
  {
   "cell_type": "code",
   "execution_count": 5,
   "id": "ab7fcf4f-8410-45f3-b8a2-1cafbc9830a7",
   "metadata": {},
   "outputs": [],
   "source": [
    "# defining a missing values funtion\n",
    "def get_missing_values(df, dataframe_name):\n",
    "    # Compute missing values for each column\n",
    "    missing_df = df.select([\n",
    "        count(when(isnull(c) | isnan(c), c)).alias(c) for c in df.columns\n",
    "    ])\n",
    "    \n",
    "    # Convert to Pandas for better formatting\n",
    "    missing = missing_df.toPandas().transpose().reset_index()\n",
    "    missing.columns = ['Column', 'Missing_Count']\n",
    "    \n",
    "    # Display the missing values\n",
    "    print(f\"--- Missing Values in {dataframe_name} ---\")\n",
    "    print(missing.to_markdown(index=False))\n",
    "    print(\"\\n\")"
   ]
  },
  {
   "cell_type": "code",
   "execution_count": 6,
   "id": "53f82987-d67f-489f-b93f-b09e596715ce",
   "metadata": {},
   "outputs": [],
   "source": [
    "# defining a statistics summary function\n",
    "def get_summary_statistics(df, dataframe_name):\n",
    "    # Compute summary statistics\n",
    "    summary = df.describe().toPandas().set_index('summary').transpose()\n",
    "    \n",
    "    # Rename the index to the dataframe name for clarity\n",
    "    summary.index.name = 'Column'\n",
    "    \n",
    "    # Display the summary statistics\n",
    "    print(f\"--- Summary Statistics for {dataframe_name} ---\")\n",
    "    print(summary.to_markdown())\n",
    "    print(\"\\n\")"
   ]
  },
  {
   "cell_type": "markdown",
   "id": "07ad6131-4f00-423a-a02b-ccbd761f4fe4",
   "metadata": {},
   "source": [
    "### DATAFRAME 1"
   ]
  },
  {
   "cell_type": "code",
   "execution_count": 7,
   "id": "703d71e6-9b78-4d85-b0fa-1cc43dbcad1b",
   "metadata": {},
   "outputs": [
    {
     "name": "stdout",
     "output_type": "stream",
     "text": [
      " Dataframe 1: rows: 430915, columns: 51 \n"
     ]
    }
   ],
   "source": [
    "print(f\" Dataframe 1: rows: {df1.count()}, columns: {len(df1.columns)} \")"
   ]
  },
  {
   "cell_type": "code",
   "execution_count": 8,
   "id": "ca4bff88-d1d1-4ed8-b107-61c63ac1623c",
   "metadata": {},
   "outputs": [],
   "source": [
    "# Dropping irrelevant columns\n",
    "df1_drop = df1.drop(\"SUBMISSIONYEARQUARTER\", \"PWS_NAME\", \"PRIMACY_AGENCY_CODE\", \"EPA_REGION\", \"PWS_TYPE_CODE\", \n",
    "                    \"OWNER_TYPE_CODE\", \"PRIMARY_SOURCE_CODE\", \"DBPR_SCHEDULE_CAT_CODE\", \"LT2_SCHEDULE_CAT_CODE\", \"CDS_ID\", \n",
    "                    \"POP_CAT_2_CODE\", \"POP_CAT_3_CODE\", \"POP_CAT_4_CODE\", \"SEASON_BEGIN_DATE\", \"SEASON_END_DATE\", \n",
    "                    \"POP_CAT_5_CODE\", \"POP_CAT_11_CODE\", \"GW_SW_CODE\", \"ORG_NAME\",  \"ADMIN_NAME\", \"EMAIL_ADDR\", \"PHONE_NUMBER\", \n",
    "                    \"PHONE_EXT_NUMBER\", \"FAX_NUMBER\", \"ALT_PHONE_NUMBER\", \"ADDRESS_LINE1\", \"ADDRESS_LINE2\", \"CITY_NAME\",\n",
    "                    \"PWS_DEACTIVATION_DATE\", \"PRIMACY_TYPE\",  \"SUBMISSION_STATUS_CODE\", \"FIRST_REPORTED_DATE\", \"LAST_REPORTED_DATE\", \n",
    "                    \"SOURCE_PROTECTION_BEGIN_DATE\", \"IS_GRANT_ELIGIBLE_IND\", \"IS_WHOLESALER_IND\", \"ZIP_CODE\", \"STATE_CODE\",\n",
    "                    \"OUTSTANDING_PERFORM_BEGIN_DATE\",\"REDUCED_MONITORING_BEGIN_DATE\", \"REDUCED_MONITORING_END_DATE\", \n",
    "                    \"SEASONAL_STARTUP_SYSTEM\", \"REDUCED_RTCR_MONITORING\")"
   ]
  },
  {
   "cell_type": "code",
   "execution_count": 9,
   "id": "8145dbd3-690a-4754-8076-0dcf71f3b095",
   "metadata": {},
   "outputs": [],
   "source": [
    "# dropping irrelvant values in a column\n",
    "df1_drop = df1_drop.filter(df1_drop[\"COUNTRY_CODE\"] == \"US\")"
   ]
  },
  {
   "cell_type": "code",
   "execution_count": 10,
   "id": "7b3f3ead-0a07-4404-b6a4-323f0fdd2fcd",
   "metadata": {},
   "outputs": [],
   "source": [
    "df1_drop = df1_drop.drop(\"COUNTRY_CODE\")"
   ]
  },
  {
   "cell_type": "code",
   "execution_count": 11,
   "id": "e2477d08-1eb3-4ca6-9bca-19f3c6954477",
   "metadata": {},
   "outputs": [],
   "source": [
    "# Fill null values with default values\n",
    "df1_drop = df1_drop.fillna({\n",
    "    \"OUTSTANDING_PERFORMER\": \"N\",\n",
    "    \"SOURCE_WATER_PROTECTION_CODE\": \"N\"\n",
    "})"
   ]
  },
  {
   "cell_type": "code",
   "execution_count": 12,
   "id": "a296450c-f6ca-4624-b5f7-dd80596a284d",
   "metadata": {},
   "outputs": [],
   "source": [
    "# Cast SERVICE_CONNECTIONS_COUNT to Integer (or appropriate numeric type)\n",
    "df1_drop = df1_drop.withColumn(\n",
    "    \"SERVICE_CONNECTIONS_COUNT\", \n",
    "    col(\"SERVICE_CONNECTIONS_COUNT\").cast(\"integer\")\n",
    ")\n"
   ]
  },
  {
   "cell_type": "code",
   "execution_count": 13,
   "id": "c622efe6-3da1-4df0-8e62-7d016c14e59e",
   "metadata": {},
   "outputs": [],
   "source": [
    "# Aggregate total population served per PWSID\n",
    "population_agg = df1_drop.groupBy(\"PWSID\").agg(\n",
    "    F.sum(\"POPULATION_SERVED_COUNT\").alias(\"TOTAL_POPULATION_SERVED_COUNT\")\n",
    ")\n",
    "\n",
    "# Aggregate total service connections per PWSID\n",
    "service_agg = df1_drop.groupBy(\"PWSID\").agg(\n",
    "    F.sum(\"SERVICE_CONNECTIONS_COUNT\").alias(\"TOTAL_SERVICE_CONNECTIONS_COUNT\")\n",
    ")"
   ]
  },
  {
   "cell_type": "code",
   "execution_count": 14,
   "id": "9aa69edf-d868-4ef4-b0d9-709f30c38334",
   "metadata": {},
   "outputs": [],
   "source": [
    "# Join population aggregation\n",
    "df1_drop = df1_drop.join(population_agg, on=\"PWSID\", how=\"left\")\n",
    "\n",
    "# Join service connections aggregation\n",
    "df1_drop = df1_drop.join(service_agg, on=\"PWSID\", how=\"left\")\n"
   ]
  },
  {
   "cell_type": "code",
   "execution_count": 15,
   "id": "1e0d3ae2-7578-46a4-8126-beaec836fb43",
   "metadata": {},
   "outputs": [],
   "source": [
    "df1_drop = df1_drop.drop(\"POPULATION_SERVED_COUNT\", \"SERVICE_CONNECTIONS_COUNT\" )"
   ]
  },
  {
   "cell_type": "code",
   "execution_count": 16,
   "id": "e296f51f-731f-40b1-a5d5-a074772039b2",
   "metadata": {},
   "outputs": [
    {
     "name": "stdout",
     "output_type": "stream",
     "text": [
      "--- Summary Statistics for DATAFRAME 1 ---\n",
      "| Column                          |   count |           mean |          stddev | min       | max       |\n",
      "|:--------------------------------|--------:|---------------:|----------------:|:----------|:----------|\n",
      "| PWSID                           |  426231 |    7.72525e+07 |     2.08861e+07 | 010106001 | WY5690006 |\n",
      "| PWS_ACTIVITY_CODE               |  426231 |                |                 | A         | P         |\n",
      "| IS_SCHOOL_OR_DAYCARE_IND        |  426231 |                |                 | N         | Y         |\n",
      "| SOURCE_WATER_PROTECTION_CODE    |  426231 |                |                 | N         | Y         |\n",
      "| OUTSTANDING_PERFORMER           |  426231 |                |                 | N         | Y         |\n",
      "| TOTAL_POPULATION_SERVED_COUNT   |  426231 | 1041.57        | 27926.7         | 0         | 9000000   |\n",
      "| TOTAL_SERVICE_CONNECTIONS_COUNT |  426231 |  423.78        | 32281.2         | 0         | 9999999   |\n",
      "\n",
      "\n"
     ]
    }
   ],
   "source": [
    "get_summary_statistics(df1_drop, \"DATAFRAME 1\")"
   ]
  },
  {
   "cell_type": "code",
   "execution_count": 17,
   "id": "f0ee2584-3143-4081-a4a3-c6e8b4e2242b",
   "metadata": {},
   "outputs": [
    {
     "name": "stdout",
     "output_type": "stream",
     "text": [
      "root\n",
      " |-- PWSID: string (nullable = true)\n",
      " |-- PWS_ACTIVITY_CODE: string (nullable = true)\n",
      " |-- IS_SCHOOL_OR_DAYCARE_IND: string (nullable = true)\n",
      " |-- SOURCE_WATER_PROTECTION_CODE: string (nullable = false)\n",
      " |-- OUTSTANDING_PERFORMER: string (nullable = false)\n",
      " |-- TOTAL_POPULATION_SERVED_COUNT: long (nullable = true)\n",
      " |-- TOTAL_SERVICE_CONNECTIONS_COUNT: long (nullable = true)\n",
      "\n"
     ]
    }
   ],
   "source": [
    "df1_drop.printSchema()"
   ]
  },
  {
   "cell_type": "code",
   "execution_count": 18,
   "id": "ca2b3217-5ca1-46d3-bae4-2cfda17ecb2a",
   "metadata": {},
   "outputs": [
    {
     "name": "stdout",
     "output_type": "stream",
     "text": [
      " Dataframe 1: rows: 426231, columns: 7 \n"
     ]
    }
   ],
   "source": [
    "# Before Dropping Duplicates\n",
    "print(f\" Dataframe 1: rows: {df1_drop.count()}, columns: {len(df1_drop.columns)} \")"
   ]
  },
  {
   "cell_type": "code",
   "execution_count": 19,
   "id": "3270ab36-5251-42bb-b65f-a959f4e32ebe",
   "metadata": {},
   "outputs": [],
   "source": [
    "df1_drop = df1_drop.dropDuplicates([\"PWSID\"])"
   ]
  },
  {
   "cell_type": "code",
   "execution_count": 20,
   "id": "a22967e9-3fc4-4002-aa5d-8055ad294344",
   "metadata": {},
   "outputs": [
    {
     "name": "stdout",
     "output_type": "stream",
     "text": [
      " Dataframe 1: rows: 426231, columns: 7 \n"
     ]
    }
   ],
   "source": [
    "# After Dropping Duplicates\n",
    "print(f\" Dataframe 1: rows: {df1_drop.count()}, columns: {len(df1_drop.columns)} \")"
   ]
  },
  {
   "cell_type": "code",
   "execution_count": 21,
   "id": "2b4f59a7-e03b-444a-9880-791ae4b58c8f",
   "metadata": {},
   "outputs": [
    {
     "name": "stdout",
     "output_type": "stream",
     "text": [
      "--- Missing Values in DATAFRAME 1 ---\n",
      "| Column                          |   Missing_Count |\n",
      "|:--------------------------------|----------------:|\n",
      "| PWSID                           |               0 |\n",
      "| PWS_ACTIVITY_CODE               |               0 |\n",
      "| IS_SCHOOL_OR_DAYCARE_IND        |               0 |\n",
      "| SOURCE_WATER_PROTECTION_CODE    |               0 |\n",
      "| OUTSTANDING_PERFORMER           |               0 |\n",
      "| TOTAL_POPULATION_SERVED_COUNT   |               0 |\n",
      "| TOTAL_SERVICE_CONNECTIONS_COUNT |               0 |\n",
      "\n",
      "\n"
     ]
    }
   ],
   "source": [
    "get_missing_values(df1_drop, \"DATAFRAME 1\")"
   ]
  },
  {
   "cell_type": "markdown",
   "id": "bf62aa88-492a-45c6-8245-9ffe7d70ca3b",
   "metadata": {},
   "source": [
    "### DATAFRAME 2"
   ]
  },
  {
   "cell_type": "code",
   "execution_count": 22,
   "id": "3671f424-0e9f-4069-81b9-97a3f9859992",
   "metadata": {},
   "outputs": [
    {
     "name": "stdout",
     "output_type": "stream",
     "text": [
      " Dataframe 2: rows: 2359090, columns: 20 \n"
     ]
    }
   ],
   "source": [
    "print(f\" Dataframe 2: rows: {df2.count()}, columns: {len(df2.columns)} \")"
   ]
  },
  {
   "cell_type": "code",
   "execution_count": 23,
   "id": "0732b0f8-0515-4c9d-9aa9-5fac24c67ffb",
   "metadata": {},
   "outputs": [
    {
     "name": "stdout",
     "output_type": "stream",
     "text": [
      "root\n",
      " |-- SUBMISSIONYEARQUARTER: string (nullable = true)\n",
      " |-- PWSID: string (nullable = true)\n",
      " |-- VISIT_ID: string (nullable = true)\n",
      " |-- VISIT_DATE: string (nullable = true)\n",
      " |-- AGENCY_TYPE_CODE: string (nullable = true)\n",
      " |-- VISIT_REASON_CODE: string (nullable = true)\n",
      " |-- MANAGEMENT_OPS_EVAL_CODE: string (nullable = true)\n",
      " |-- SOURCE_WATER_EVAL_CODE: string (nullable = true)\n",
      " |-- SECURITY_EVAL_CODE: string (nullable = true)\n",
      " |-- PUMPS_EVAL_CODE: string (nullable = true)\n",
      " |-- OTHER_EVAL_CODE: string (nullable = true)\n",
      " |-- COMPLIANCE_EVAL_CODE: string (nullable = true)\n",
      " |-- DATA_VERIFICATION_EVAL_CODE: string (nullable = true)\n",
      " |-- TREATMENT_EVAL_CODE: string (nullable = true)\n",
      " |-- FINISHED_WATER_STOR_EVAL_CODE: string (nullable = true)\n",
      " |-- DISTRIBUTION_EVAL_CODE: string (nullable = true)\n",
      " |-- FINANCIAL_EVAL_CODE: string (nullable = true)\n",
      " |-- VISIT_COMMENTS: string (nullable = true)\n",
      " |-- FIRST_REPORTED_DATE: string (nullable = true)\n",
      " |-- LAST_REPORTED_DATE: string (nullable = true)\n",
      "\n"
     ]
    }
   ],
   "source": [
    "df2.printSchema()"
   ]
  },
  {
   "cell_type": "code",
   "execution_count": 24,
   "id": "a26734b3-3293-4c44-9d6f-a4a5e64d7e4f",
   "metadata": {},
   "outputs": [],
   "source": [
    "# dropping irrelevant columns\n",
    "df2_drop = df2.drop(\"SUBMISSIONYEARQUARTER\", \"AGENCY_TYPE_CODE\", \"VISIT_REASON_CODE\",  \n",
    "                    \"VISIT_ID\", \"VISIT_DATE\",  \"FIRST_REPORTED_DATE\", \"VISIT_COMMENTS\", \"LAST_REPORTED_DATE\")"
   ]
  },
  {
   "cell_type": "code",
   "execution_count": 25,
   "id": "a286d765-7314-44e4-a287-b70d3c927ad5",
   "metadata": {},
   "outputs": [],
   "source": [
    "# dropping null values\n",
    "df2_drop = df2_drop.dropna()"
   ]
  },
  {
   "cell_type": "code",
   "execution_count": 26,
   "id": "be728d6f-5798-4721-b9a7-53f944eaca45",
   "metadata": {},
   "outputs": [
    {
     "name": "stdout",
     "output_type": "stream",
     "text": [
      "root\n",
      " |-- PWSID: string (nullable = true)\n",
      " |-- MANAGEMENT_OPS_EVAL_CODE: string (nullable = true)\n",
      " |-- SOURCE_WATER_EVAL_CODE: string (nullable = true)\n",
      " |-- SECURITY_EVAL_CODE: string (nullable = true)\n",
      " |-- PUMPS_EVAL_CODE: string (nullable = true)\n",
      " |-- OTHER_EVAL_CODE: string (nullable = true)\n",
      " |-- COMPLIANCE_EVAL_CODE: string (nullable = true)\n",
      " |-- DATA_VERIFICATION_EVAL_CODE: string (nullable = true)\n",
      " |-- TREATMENT_EVAL_CODE: string (nullable = true)\n",
      " |-- FINISHED_WATER_STOR_EVAL_CODE: string (nullable = true)\n",
      " |-- DISTRIBUTION_EVAL_CODE: string (nullable = true)\n",
      " |-- FINANCIAL_EVAL_CODE: string (nullable = true)\n",
      "\n"
     ]
    }
   ],
   "source": [
    "df2_drop.printSchema()"
   ]
  },
  {
   "cell_type": "code",
   "execution_count": 27,
   "id": "07e5c225-1f49-4212-bfbd-08a6a32adc33",
   "metadata": {},
   "outputs": [
    {
     "name": "stdout",
     "output_type": "stream",
     "text": [
      " Dataframe 2: rows: 835088, columns: 12 \n"
     ]
    }
   ],
   "source": [
    "# Dataframe before Dropping Duplicates\n",
    "print(f\" Dataframe 2: rows: {df2_drop.count()}, columns: {len(df2_drop.columns)} \")"
   ]
  },
  {
   "cell_type": "code",
   "execution_count": 28,
   "id": "c6009c88-840f-4974-a1eb-f5a3971ea5b1",
   "metadata": {},
   "outputs": [],
   "source": [
    "df2_drop = df2_drop.dropDuplicates([\"PWSID\"])"
   ]
  },
  {
   "cell_type": "code",
   "execution_count": 29,
   "id": "84f5f111-c759-453a-b506-b32010f4ae8c",
   "metadata": {},
   "outputs": [
    {
     "name": "stdout",
     "output_type": "stream",
     "text": [
      " Dataframe 2: rows: 127857, columns: 12 \n"
     ]
    }
   ],
   "source": [
    "# Dataframe after Dropping Duplicates\n",
    "print(f\" Dataframe 2: rows: {df2_drop.count()}, columns: {len(df2_drop.columns)} \")"
   ]
  },
  {
   "cell_type": "code",
   "execution_count": 30,
   "id": "83b49cd8-6f80-4a76-8f91-85bdaa6ab4f7",
   "metadata": {},
   "outputs": [
    {
     "name": "stdout",
     "output_type": "stream",
     "text": [
      "--- Missing Values in DATAFRAME 2 ---\n",
      "| Column                        |   Missing_Count |\n",
      "|:------------------------------|----------------:|\n",
      "| PWSID                         |               0 |\n",
      "| MANAGEMENT_OPS_EVAL_CODE      |               0 |\n",
      "| SOURCE_WATER_EVAL_CODE        |               0 |\n",
      "| SECURITY_EVAL_CODE            |               0 |\n",
      "| PUMPS_EVAL_CODE               |               0 |\n",
      "| OTHER_EVAL_CODE               |               0 |\n",
      "| COMPLIANCE_EVAL_CODE          |               0 |\n",
      "| DATA_VERIFICATION_EVAL_CODE   |               0 |\n",
      "| TREATMENT_EVAL_CODE           |               0 |\n",
      "| FINISHED_WATER_STOR_EVAL_CODE |               0 |\n",
      "| DISTRIBUTION_EVAL_CODE        |               0 |\n",
      "| FINANCIAL_EVAL_CODE           |               0 |\n",
      "\n",
      "\n"
     ]
    }
   ],
   "source": [
    "get_missing_values(df2_drop, \"DATAFRAME 2\")"
   ]
  },
  {
   "cell_type": "markdown",
   "id": "0f4dd6c3-f856-4a5e-ad45-b1d7db004a8c",
   "metadata": {},
   "source": [
    "### DATAFRAME 3"
   ]
  },
  {
   "cell_type": "code",
   "execution_count": 31,
   "id": "c0f8b68c-6859-46e3-817d-2903bd92f421",
   "metadata": {},
   "outputs": [
    {
     "name": "stdout",
     "output_type": "stream",
     "text": [
      " Dataframe 3: rows: 14501860, columns: 38 \n"
     ]
    }
   ],
   "source": [
    "# Display dataframe shape\n",
    "print(f\" Dataframe 3: rows: {df3.count()}, columns: {len(df3.columns)} \")"
   ]
  },
  {
   "cell_type": "code",
   "execution_count": 32,
   "id": "c7934933-23d4-4a9f-ab85-f3b8dc5d5019",
   "metadata": {},
   "outputs": [],
   "source": [
    "# dropping irrelevant columns\n",
    "df3_drop = df3.drop(\"SUBMISSIONYEARQUARTER\", \"FACILITY_ID\", \"VIOLATION_CODE\", \"COMPL_PER_BEGIN_DATE\", \n",
    "                    \"CONTAMINANT_CODE\", \"COMPL_PER_END_DATE\", \"STATE_MCL\", \"RULE_GROUP_CODE\", \"SAMPLE_RESULT_ID\", \n",
    "                    \"CORRECTIVE_ACTION_ID\", \"ENFORCEMENT_ACTION_TYPE_CODE\",\"CALCULATED_PUB_NOTIF_TIER\", \"PWS_DEACTIVATION_DATE\",\n",
    "                    \"PUBLIC_NOTIFICATION_TIER\", \"SEVERITY_IND_CNT\", \"FEDERAL_MCL\", \"RULE_CODE\", \"RULE_FAMILY_CODE\",\n",
    "                      \"VIOL_FIRST_REPORTED_DATE\", \"VIOL_LAST_REPORTED_DATE\", \"ENF_FIRST_REPORTED_DATE\", \"ENF_LAST_REPORTED_DATE\",\n",
    "                      \"VIOL_ORIGINATOR_CODE\", \"ENF_ORIGINATOR_CODE\", \"FIRST_REPORTED_DATE\", \"LAST_REPORTED_DATE\")"
   ]
  },
  {
   "cell_type": "code",
   "execution_count": 33,
   "id": "02f9fdef-aa76-4650-be8e-b2ddf3d4ecc7",
   "metadata": {},
   "outputs": [],
   "source": [
    "# dropping null values in a column\n",
    "df3_drop = df3_drop.dropna(subset = [\"VIOL_MEASURE\"])"
   ]
  },
  {
   "cell_type": "code",
   "execution_count": 34,
   "id": "23a33c35-0ab3-49d4-a971-53e6a659e44c",
   "metadata": {},
   "outputs": [],
   "source": [
    "# Imputing null values\n",
    "df3_drop = df3_drop.fillna({\"IS_MAJOR_VIOL_IND\": \"N\", \n",
    "                            \"CALCULATED_RTC_DATE\": \"12/31/2024\",\n",
    "                            \"NON_COMPL_PER_END_DATE\": \"12/31/2024\",\n",
    "                            \"NON_COMPL_PER_END_DATE\": \"12/31/2024\",\n",
    "                            \"ENFORCEMENT_DATE\": \"12/31/2024\",\n",
    "                            \"ENF_ACTION_CATEGORY\": \"Unknown\",\n",
    "                            \"UNIT_OF_MEASURE\": \"MG/L\"})"
   ]
  },
  {
   "cell_type": "code",
   "execution_count": 35,
   "id": "f4a2ef3f-62f9-4d85-bbfd-c61926cd4e02",
   "metadata": {},
   "outputs": [],
   "source": [
    "# filtering certains value rows in a column\n",
    "df3_drop = df3_drop.filter(df3_drop[\"UNIT_OF_MEASURE\"] == \"MG/L\")"
   ]
  },
  {
   "cell_type": "code",
   "execution_count": 36,
   "id": "a127c117-ab60-47ba-a3d9-ae29576e5d15",
   "metadata": {},
   "outputs": [],
   "source": [
    "# Aggregate variables per PWSID\n",
    "enforcement_agg = df3_drop.groupBy(\"PWSID\").agg(\n",
    "    F.count(\"ENFORCEMENT_ID\").alias(\"TOTAL_ENFORCEMENTS\")\n",
    ")\n",
    "\n",
    "violation_agg = df3_drop.groupBy(\"PWSID\").agg(\n",
    "    F.count(\"VIOLATION_ID\").alias(\"TOTAL_VIOLATIONS\")\n",
    ")"
   ]
  },
  {
   "cell_type": "code",
   "execution_count": 37,
   "id": "0de2db99-96f9-4e4b-85ed-ef6bcbb30188",
   "metadata": {},
   "outputs": [],
   "source": [
    "# Join population aggregation\n",
    "df3_drop = df3_drop.join(enforcement_agg, on=\"PWSID\", how=\"left\")\n",
    "\n",
    "# Join service connections aggregation\n",
    "df3_drop = df3_drop.join(violation_agg, on=\"PWSID\", how=\"left\")\n"
   ]
  },
  {
   "cell_type": "code",
   "execution_count": 38,
   "id": "1c32d2de-b229-45a4-b464-0f568e3b7552",
   "metadata": {},
   "outputs": [],
   "source": [
    "df3_drop = df3_drop.drop(\"UNIT_OF_MEASURE\", \"VIOLATION_ID\", \"ENFORCEMENT_ID\")"
   ]
  },
  {
   "cell_type": "code",
   "execution_count": 39,
   "id": "5459023e-06c6-4e5a-9f1d-71fe326377e0",
   "metadata": {},
   "outputs": [
    {
     "name": "stdout",
     "output_type": "stream",
     "text": [
      "--- Missing Values in DATAFRAME 2 ---\n",
      "| Column                   |   Missing_Count |\n",
      "|:-------------------------|----------------:|\n",
      "| PWSID                    |               0 |\n",
      "| NON_COMPL_PER_BEGIN_DATE |               0 |\n",
      "| NON_COMPL_PER_END_DATE   |               0 |\n",
      "| VIOLATION_CATEGORY_CODE  |               0 |\n",
      "| IS_HEALTH_BASED_IND      |               0 |\n",
      "| VIOL_MEASURE             |               0 |\n",
      "| IS_MAJOR_VIOL_IND        |               0 |\n",
      "| CALCULATED_RTC_DATE      |               0 |\n",
      "| VIOLATION_STATUS         |               0 |\n",
      "| ENFORCEMENT_DATE         |               0 |\n",
      "| ENF_ACTION_CATEGORY      |               0 |\n",
      "| TOTAL_ENFORCEMENTS       |               0 |\n",
      "| TOTAL_VIOLATIONS         |               0 |\n",
      "\n",
      "\n"
     ]
    }
   ],
   "source": [
    "get_missing_values(df3_drop, \"DATAFRAME 2\")"
   ]
  },
  {
   "cell_type": "code",
   "execution_count": 40,
   "id": "abb5bb51-8fac-418b-8e49-2b87a85a86b4",
   "metadata": {},
   "outputs": [],
   "source": [
    "# Convert date columns from string to DateType with the correct format\n",
    "df3_drop = df3_drop.withColumn(\n",
    "    \"NON_COMPL_PER_BEGIN_DATE\",\n",
    "    to_date(col(\"NON_COMPL_PER_BEGIN_DATE\"), \"MM/dd/yyyy\")\n",
    ")\n",
    "\n",
    "df3_drop = df3_drop.withColumn(\n",
    "    \"NON_COMPL_PER_END_DATE\",\n",
    "    to_date(col(\"NON_COMPL_PER_END_DATE\"), \"MM/dd/yyyy\")\n",
    ")\n",
    "\n",
    "df3_drop = df3_drop.withColumn(\n",
    "    \"CALCULATED_RTC_DATE\",\n",
    "    to_date(col(\"CALCULATED_RTC_DATE\"), \"MM/dd/yyyy\")\n",
    ")\n",
    "\n",
    "df3_drop = df3_drop.withColumn(\n",
    "    \"ENFORCEMENT_DATE\",\n",
    "    to_date(col(\"ENFORCEMENT_DATE\"), \"MM/dd/yyyy\")\n",
    ")"
   ]
  },
  {
   "cell_type": "code",
   "execution_count": 41,
   "id": "5e7feb1f-98de-42fb-8ab9-0b91ae44540d",
   "metadata": {},
   "outputs": [],
   "source": [
    "# Updating the 'NON_COMPL_PER_END_DATE' column\n",
    "df3_drop = df3_drop.withColumn(\n",
    "    \"NON_COMPL_PER_END_DATE\",\n",
    "    when(col(\"NON_COMPL_PER_END_DATE\").isNull(), lit(\"2024-12-31\"))\n",
    "    .when(col(\"NON_COMPL_PER_END_DATE\") > current_date(), lit(\"2024-12-31\"))\n",
    "    .otherwise(col(\"NON_COMPL_PER_END_DATE\"))  # Preserve original value if other conditions are not met\n",
    ")"
   ]
  },
  {
   "cell_type": "code",
   "execution_count": 46,
   "id": "2725a346-accc-4fba-b99d-c4fafe010a5e",
   "metadata": {},
   "outputs": [],
   "source": [
    "# Non-Compliance Duration\n",
    "df3_drop = df3_drop.withColumn(\"NON_COMPLIANCE_DURATION_DAYS\", \n",
    "                               F.datediff(\"NON_COMPL_PER_END_DATE\", \"NON_COMPL_PER_BEGIN_DATE\"))"
   ]
  },
  {
   "cell_type": "code",
   "execution_count": 47,
   "id": "a4136aa1-7dba-4385-b7c0-065b8abdb65d",
   "metadata": {},
   "outputs": [
    {
     "name": "stdout",
     "output_type": "stream",
     "text": [
      "+----------------------------+----------------------+------------------------+\n",
      "|NON_COMPLIANCE_DURATION_DAYS|NON_COMPL_PER_END_DATE|NON_COMPL_PER_BEGIN_DATE|\n",
      "+----------------------------+----------------------+------------------------+\n",
      "|                          -1|            1994-01-31|              1994-02-01|\n",
      "|                          -1|            1994-01-31|              1994-02-01|\n",
      "|                          -1|            1994-01-31|              1994-02-01|\n",
      "|                          -1|            1994-01-31|              1994-02-01|\n",
      "|                          -1|            1994-01-31|              1994-02-01|\n",
      "|                          -1|            1994-01-31|              1994-02-01|\n",
      "|                          -1|            1994-01-31|              1994-02-01|\n",
      "|                          -1|            1994-01-31|              1994-02-01|\n",
      "|                          -1|            1994-01-31|              1994-02-01|\n",
      "|                          -1|            1994-01-31|              1994-02-01|\n",
      "|                         -62|            2000-04-30|              2000-07-01|\n",
      "|                         -62|            2000-04-30|              2000-07-01|\n",
      "|                      -12419|            1979-01-01|              2013-01-01|\n",
      "|                      -12509|            1979-01-01|              2013-04-01|\n",
      "|                      -11231|            1979-01-01|              2009-10-01|\n",
      "|                      -12327|            1979-01-01|              2012-10-01|\n",
      "|                      -12692|            1979-01-01|              2013-10-01|\n",
      "|                      -13788|            1979-01-01|              2016-10-01|\n",
      "|                      -14518|            1979-01-01|              2018-10-01|\n",
      "|                      -11323|            1979-01-01|              2010-01-01|\n",
      "+----------------------------+----------------------+------------------------+\n",
      "only showing top 20 rows\n",
      "\n"
     ]
    }
   ],
   "source": [
    "df3_drop.filter(df3_drop[\"NON_COMPLIANCE_DURATION_DAYS\"] < 0 ).select(\"NON_COMPLIANCE_DURATION_DAYS\", \"NON_COMPL_PER_END_DATE\", \"NON_COMPL_PER_BEGIN_DATE\").show()"
   ]
  },
  {
   "cell_type": "code",
   "execution_count": 48,
   "id": "dfe8d5d8-59db-481c-9c7c-0a06c857968e",
   "metadata": {},
   "outputs": [],
   "source": [
    "# Step 3: Swap begin and end dates only for rows with incorrect dates\n",
    "df_incorrect_dates_fixed = df3_drop.withColumn(\n",
    "    \"BEGIN_DATE_FIXED\",\n",
    "    F.when(F.col(\"NON_COMPL_PER_BEGIN_DATE\") > F.col(\"NON_COMPL_PER_END_DATE\"), F.col(\"NON_COMPL_PER_END_DATE\")).otherwise(F.col(\"NON_COMPL_PER_BEGIN_DATE\"))\n",
    ").withColumn(\n",
    "    \"END_DATE_FIXED\",\n",
    "    F.when(F.col(\"NON_COMPL_PER_BEGIN_DATE\") > F.col(\"NON_COMPL_PER_END_DATE\"), F.col(\"NON_COMPL_PER_BEGIN_DATE\")).otherwise(F.col(\"NON_COMPL_PER_END_DATE\"))\n",
    ")\n",
    "\n",
    "# Step 4: Recalculate the duration for the corrected rows\n",
    "df_incorrect_dates_fixed = df_incorrect_dates_fixed.withColumn(\n",
    "    \"NON_COMPLIANCE_DURATION_DAYS\", \n",
    "    F.datediff(F.col(\"END_DATE_FIXED\"), F.col(\"BEGIN_DATE_FIXED\"))\n",
    ")"
   ]
  },
  {
   "cell_type": "code",
   "execution_count": 49,
   "id": "8e1f41e8-b1e0-4b1a-b561-0c83c0b74d1f",
   "metadata": {},
   "outputs": [],
   "source": [
    "df3_drop = df_incorrect_dates_fixed.drop(\"NON_COMPL_PER_BEGIN_DATE\", \"NON_COMPL_PER_END_DATE\")"
   ]
  },
  {
   "cell_type": "code",
   "execution_count": 50,
   "id": "c7213389-cf1a-434e-aa51-591bd9698a7a",
   "metadata": {},
   "outputs": [],
   "source": [
    "# Flag for open violations\n",
    "df3_drop = df3_drop.withColumn(\n",
    "    \"IS_VIOLATION_OPEN\",\n",
    "    when(col(\"END_DATE_FIXED\") == lit(\"2024-12-31\"), 1).otherwise(0)\n",
    ")"
   ]
  },
  {
   "cell_type": "code",
   "execution_count": 51,
   "id": "6fdaddc6-bfb3-4520-acca-9882eeb7a0ee",
   "metadata": {},
   "outputs": [],
   "source": [
    "# Flag for enforcement taken\n",
    "df3_drop = df3_drop.withColumn(\n",
    "    \"ENFORCEMENT_ACTION_TAKEN\",\n",
    "    when(col(\"ENFORCEMENT_DATE\") < current_date(), 1).otherwise(0)\n",
    ")"
   ]
  },
  {
   "cell_type": "code",
   "execution_count": 52,
   "id": "4bbcbc2c-0f3b-4fca-8025-e35e7e022e51",
   "metadata": {},
   "outputs": [],
   "source": [
    "df3_drop = df3_drop.withColumn(\n",
    "    \"LATE_COMPLIANCE\",\n",
    "    when(\n",
    "        (col(\"CALCULATED_RTC_DATE\") > col(\"ENFORCEMENT_DATE\")) &\n",
    "        (col(\"ENFORCEMENT_DATE\") != lit(\"2024-12-31\")),\n",
    "        1\n",
    "    ).otherwise(0)\n",
    ")"
   ]
  },
  {
   "cell_type": "code",
   "execution_count": 53,
   "id": "21bd7523-0ff3-476a-a5a5-70035d634ac0",
   "metadata": {},
   "outputs": [],
   "source": [
    "# Define compliance status\n",
    "df3_drop = df3_drop.withColumn(\n",
    "    \"COMPLIANCE_STATUS\",\n",
    "    when(col(\"NON_COMPLIANCE_DURATION_DAYS\").isNull(), \"Compliant\")\n",
    "    .when((col(\"NON_COMPLIANCE_DURATION_DAYS\").isNotNull()) & (col(\"ENFORCEMENT_ACTION_TAKEN\") == 0), \"Non-Compliant (No Enforcement)\")\n",
    "    .when((col(\"NON_COMPLIANCE_DURATION_DAYS\").isNotNull()) & (col(\"ENFORCEMENT_ACTION_TAKEN\") == 1) & (col(\"LATE_COMPLIANCE\") == 0), \"Non-Compliant (With Enforcement)\")\n",
    "    .when((col(\"LATE_COMPLIANCE\") == 1), \"Late Compliance\")\n",
    "    .otherwise(\"Unknown\")\n",
    ")"
   ]
  },
  {
   "cell_type": "code",
   "execution_count": 54,
   "id": "06b81254-3984-42eb-9282-3827794afacf",
   "metadata": {},
   "outputs": [],
   "source": [
    "# Aggregating multiple features at once\n",
    "df3_aggregated = df3_drop.groupBy(\"PWSID\").agg(\n",
    "    F.round(F.avg(\"NON_COMPLIANCE_DURATION_DAYS\"), 0).alias(\"AVG_VIOLATION_DURATION_DAYS\"),  # Rounded average\n",
    "    F.sum(\"IS_VIOLATION_OPEN\").alias(\"OPEN_VIOLATIONS_COUNT\"),  # Total open violations\n",
    "    F.sum(\"LATE_COMPLIANCE\").alias(\"TOTAL_LATE_COMPLIANT_ACTIONS\")  # Total late compliant actions\n",
    ")"
   ]
  },
  {
   "cell_type": "code",
   "execution_count": 55,
   "id": "1c899512-dab4-4d60-91f6-4ae3eaec7453",
   "metadata": {},
   "outputs": [],
   "source": [
    "# Join service connections aggregation\n",
    "df3_drop = df3_drop.join(df3_aggregated, on=\"PWSID\", how=\"left\")"
   ]
  },
  {
   "cell_type": "code",
   "execution_count": 56,
   "id": "af49d2cc-4438-4dca-82ee-474586b25e27",
   "metadata": {},
   "outputs": [],
   "source": [
    "df3_drop = df3_drop.drop(\"BEGIN_DATE_FIXED\", \"END_DATE_FIXED\", \"CALCULATED_RTC_DATE\", \"ENFORCEMENT_DATE\",\n",
    "                        \"NON_COMPLIANCE_DURATION_DAYS\", \"ENFORCEMENT_ACTION_TAKEN\",  \"LATE_COMPLIANCE\", \"IS_VIOLATION_OPEN\"\n",
    "                        )"
   ]
  },
  {
   "cell_type": "code",
   "execution_count": 57,
   "id": "54a1e0f8-2133-4002-a4ec-124f898b788e",
   "metadata": {},
   "outputs": [
    {
     "name": "stdout",
     "output_type": "stream",
     "text": [
      "root\n",
      " |-- PWSID: string (nullable = true)\n",
      " |-- VIOLATION_CATEGORY_CODE: string (nullable = true)\n",
      " |-- IS_HEALTH_BASED_IND: string (nullable = true)\n",
      " |-- VIOL_MEASURE: double (nullable = true)\n",
      " |-- IS_MAJOR_VIOL_IND: string (nullable = false)\n",
      " |-- VIOLATION_STATUS: string (nullable = true)\n",
      " |-- ENF_ACTION_CATEGORY: string (nullable = false)\n",
      " |-- TOTAL_ENFORCEMENTS: long (nullable = true)\n",
      " |-- TOTAL_VIOLATIONS: long (nullable = true)\n",
      " |-- COMPLIANCE_STATUS: string (nullable = false)\n",
      " |-- AVG_VIOLATION_DURATION_DAYS: double (nullable = true)\n",
      " |-- OPEN_VIOLATIONS_COUNT: long (nullable = true)\n",
      " |-- TOTAL_LATE_COMPLIANT_ACTIONS: long (nullable = true)\n",
      "\n"
     ]
    }
   ],
   "source": [
    "df3_drop.printSchema()"
   ]
  },
  {
   "cell_type": "code",
   "execution_count": 58,
   "id": "8631b8a6-8a3b-4bce-8d3a-956efbe6dded",
   "metadata": {},
   "outputs": [
    {
     "name": "stdout",
     "output_type": "stream",
     "text": [
      "--- Summary Statistics for DATAFRAME 3 ---\n",
      "| Column                       |   count |          mean |        stddev | min             | max                              |\n",
      "|:-----------------------------|--------:|--------------:|--------------:|:----------------|:---------------------------------|\n",
      "| PWSID                        | 1974819 |   8.98512e+07 |   2.05634e+07 | 010106001       | WY5680211                        |\n",
      "| VIOLATION_CATEGORY_CODE      | 1974819 |               |               | MCL             | TT                               |\n",
      "| IS_HEALTH_BASED_IND          | 1974819 |               |               | N               | Y                                |\n",
      "| VIOL_MEASURE                 | 1974819 |   3.97418     | 318.332       | 0.0             | 99999.0                          |\n",
      "| IS_MAJOR_VIOL_IND            | 1974819 |               |               | N               | Y                                |\n",
      "| VIOLATION_STATUS             | 1974819 |               |               | Addressed       | Unaddressed                      |\n",
      "| ENF_ACTION_CATEGORY          | 1974819 |               |               | Formal          | Unknown                          |\n",
      "| TOTAL_ENFORCEMENTS           | 1974819 | 176.069       | 297.472       | 0               | 2809                             |\n",
      "| TOTAL_VIOLATIONS             | 1974819 | 182.319       | 299.083       | 1               | 2810                             |\n",
      "| COMPLIANCE_STATUS            | 1974819 |               |               | Late Compliance | Non-Compliant (With Enforcement) |\n",
      "| AVG_VIOLATION_DURATION_DAYS  | 1974819 | 312.677       | 758.164       | 0.0             | 36973.0                          |\n",
      "| OPEN_VIOLATIONS_COUNT        | 1974819 |   0.0244362   |   0.771359    | 0               | 41                               |\n",
      "| TOTAL_LATE_COMPLIANT_ACTIONS | 1974819 |  22.1927      |  55.2436      | 0               | 644                              |\n",
      "\n",
      "\n"
     ]
    }
   ],
   "source": [
    "get_summary_statistics(df3_drop, \"DATAFRAME 3\")"
   ]
  },
  {
   "cell_type": "code",
   "execution_count": 59,
   "id": "23b0e306-ffb7-4156-a5fa-5358f6d697f3",
   "metadata": {},
   "outputs": [
    {
     "name": "stdout",
     "output_type": "stream",
     "text": [
      " Dataframe 3: rows: 1974819, columns: 13 \n"
     ]
    }
   ],
   "source": [
    "# Before Dropping Duplicates\n",
    "print(f\" Dataframe 3: rows: {df3_drop.count()}, columns: {len(df3_drop.columns)} \")"
   ]
  },
  {
   "cell_type": "code",
   "execution_count": 60,
   "id": "48dd5a75-45b8-4e3d-a076-7260d45c8e04",
   "metadata": {},
   "outputs": [],
   "source": [
    "df3_drop = df3_drop.dropDuplicates([\"PWSID\"])"
   ]
  },
  {
   "cell_type": "code",
   "execution_count": 61,
   "id": "b9d7e3bf-46b5-434e-8f2b-31511393ad1e",
   "metadata": {},
   "outputs": [
    {
     "name": "stdout",
     "output_type": "stream",
     "text": [
      " Dataframe 3: rows: 109381, columns: 13 \n"
     ]
    }
   ],
   "source": [
    "# After Dropping Duplicates\n",
    "print(f\" Dataframe 3: rows: {df3_drop.count()}, columns: {len(df3_drop.columns)} \")"
   ]
  },
  {
   "cell_type": "code",
   "execution_count": 62,
   "id": "29bc3cae-bfa1-4500-b011-bdd6a168a637",
   "metadata": {},
   "outputs": [
    {
     "name": "stdout",
     "output_type": "stream",
     "text": [
      "--- Missing Values in DATAFRAME 3 ---\n",
      "| Column                       |   Missing_Count |\n",
      "|:-----------------------------|----------------:|\n",
      "| PWSID                        |               0 |\n",
      "| VIOLATION_CATEGORY_CODE      |               0 |\n",
      "| IS_HEALTH_BASED_IND          |               0 |\n",
      "| VIOL_MEASURE                 |               0 |\n",
      "| IS_MAJOR_VIOL_IND            |               0 |\n",
      "| VIOLATION_STATUS             |               0 |\n",
      "| ENF_ACTION_CATEGORY          |               0 |\n",
      "| TOTAL_ENFORCEMENTS           |               0 |\n",
      "| TOTAL_VIOLATIONS             |               0 |\n",
      "| COMPLIANCE_STATUS            |               0 |\n",
      "| AVG_VIOLATION_DURATION_DAYS  |               0 |\n",
      "| OPEN_VIOLATIONS_COUNT        |               0 |\n",
      "| TOTAL_LATE_COMPLIANT_ACTIONS |               0 |\n",
      "\n",
      "\n"
     ]
    }
   ],
   "source": [
    "get_missing_values(df3_drop, \"DATAFRAME 3\")"
   ]
  },
  {
   "cell_type": "markdown",
   "id": "5174a531-4a94-40b9-b6e8-79718e1404cb",
   "metadata": {},
   "source": [
    "### DATAFRAME TRANSFORMATIONS"
   ]
  },
  {
   "cell_type": "code",
   "execution_count": 63,
   "id": "efd59e4f-c45d-4408-a8b4-6ba4ac04ef61",
   "metadata": {},
   "outputs": [],
   "source": [
    "# List of DataFrames\n",
    "dfs = [df1_drop, df2_drop, df3_drop]\n",
    "\n",
    "# Merge all DataFrames on 'id' using an inner join\n",
    "df_combined = reduce(lambda df1, df2: df1.join(df2, \"PWSID\", how=\"inner\"), dfs)"
   ]
  },
  {
   "cell_type": "code",
   "execution_count": 64,
   "id": "fe69ba82-5664-484c-abcf-68d2b63c0b3d",
   "metadata": {},
   "outputs": [],
   "source": [
    "df_combined = df_combined.dropDuplicates()"
   ]
  },
  {
   "cell_type": "code",
   "execution_count": 65,
   "id": "ffc5933b-34b7-4509-9caa-864247dcc737",
   "metadata": {},
   "outputs": [
    {
     "name": "stdout",
     "output_type": "stream",
     "text": [
      " Dataframes combined: rows: 43073, columns: 30 \n"
     ]
    }
   ],
   "source": [
    "print(f\" Dataframes combined: rows: {df_combined.count()}, columns: {len(df_combined.columns)} \")"
   ]
  },
  {
   "cell_type": "code",
   "execution_count": null,
   "id": "ef8de7bd-14a8-492f-9b57-b63a6a7e8cf2",
   "metadata": {},
   "outputs": [],
   "source": [
    "# converting the final dataframe into pandas\n"
   ]
  },
  {
   "cell_type": "code",
   "execution_count": null,
   "id": "9e75b84b-ebec-403e-8c72-0a0bd855b533",
   "metadata": {},
   "outputs": [],
   "source": [
    "# Saving the csv file into the drive\n",
    "df_original.to_csv('C:/Users/june3/OneDrive/Desktop/my_output_result/df_original.csv', index=False) "
   ]
  },
  {
   "cell_type": "code",
   "execution_count": 83,
   "id": "df36885f-33ec-4f9e-939e-ba852e03baa3",
   "metadata": {},
   "outputs": [],
   "source": [
    "spark.stop()"
   ]
  }
 ],
 "metadata": {
  "kernelspec": {
   "display_name": "pyspark",
   "language": "python",
   "name": "pyspark"
  },
  "language_info": {
   "codemirror_mode": {
    "name": "ipython",
    "version": 3
   },
   "file_extension": ".py",
   "mimetype": "text/x-python",
   "name": "python",
   "nbconvert_exporter": "python",
   "pygments_lexer": "ipython3",
   "version": "3.12.5"
  }
 },
 "nbformat": 4,
 "nbformat_minor": 5
}
