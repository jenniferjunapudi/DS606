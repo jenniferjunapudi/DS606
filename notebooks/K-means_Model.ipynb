{
 "cells": [
  {
   "cell_type": "markdown",
   "id": "4cd1070e-d031-4fcd-b38e-3adda1c39410",
   "metadata": {},
   "source": [
    "### IMPORTING PACKAGES"
   ]
  },
  {
   "cell_type": "code",
   "execution_count": 1,
   "id": "17d189ba-6a97-49e6-8e8e-d7c287ebca59",
   "metadata": {},
   "outputs": [],
   "source": [
    "from pyspark.sql import SparkSession\n",
    "from pyspark.sql import Window\n",
    "from pyspark.sql import DataFrame\n",
    "import pandas as pd\n",
    "from pyspark.sql.functions import (\n",
    "    min, max, year, month, col, isnan, isnull, when, count, countDistinct, \n",
    "    round, desc, sum as sum_, mean, stddev, variance, skewness, kurtosis, \n",
    "    explode, split, regexp_replace, to_timestamp, to_date, lit, datediff, current_date\n",
    ")\n",
    "from pyspark.sql.types import StringType\n",
    "import matplotlib.pyplot as plt\n",
    "from functools import reduce\n",
    "from pyspark.sql import functions as F\n",
    "from pyspark.ml import Pipeline\n",
    "from pyspark.sql.window import Window\n",
    "from pyspark.sql.functions import create_map, lit\n",
    "from itertools import chain\n",
    "from pyspark.sql.functions import avg as F_avg\n",
    "from pyspark.sql.functions import sum as F_sum\n",
    "from pyspark.sql.functions import count as F_count\n",
    "from pyspark.sql.functions import col, round as F_round\n",
    "from pyspark.sql.functions import log1p \n",
    "import seaborn as sns\n",
    "from pyspark.ml.stat import Correlation\n",
    "import numpy as np\n",
    "import pylab as pl\n",
    "from pyspark.ml.linalg import Vectors\n",
    "from sklearn.metrics import silhouette_score, davies_bouldin_score, calinski_harabasz_score\n",
    "from pyspark.ml.feature import StringIndexer, OneHotEncoder, VectorAssembler, StandardScaler\n",
    "from sklearn.cluster import KMeans\n",
    "import warnings\n",
    "\n",
    "# Suppress all warnings\n",
    "warnings.filterwarnings(\"ignore\")"
   ]
  },
  {
   "cell_type": "code",
   "execution_count": 2,
   "id": "4a195079-05bb-4340-8d0b-417103b3460f",
   "metadata": {},
   "outputs": [
    {
     "name": "stdout",
     "output_type": "stream",
     "text": [
      "C:\\Users\\june3\\OneDrive\\Desktop\\my_output_result\n"
     ]
    }
   ],
   "source": [
    "# Changing the directory in the Colab notebook to a specific location within the Google Drive\n",
    "%cd C:\\Users\\june3\\OneDrive\\Desktop\\my_output_result\\"
   ]
  },
  {
   "cell_type": "markdown",
   "id": "613dacd6-8e19-4b1f-a2af-401c8883bc99",
   "metadata": {},
   "source": [
    "### CREATE SPARK SESSION"
   ]
  },
  {
   "cell_type": "code",
   "execution_count": 3,
   "id": "9ee6a7e3-266e-44f3-aae1-82196582fa40",
   "metadata": {},
   "outputs": [],
   "source": [
    "# Step 1: Create a SparkSession\n",
    "spark = SparkSession.builder \\\n",
    "    .appName(\"K-means on SDWA\") \\\n",
    "    .getOrCreate()"
   ]
  },
  {
   "cell_type": "markdown",
   "id": "29e9b997-9158-4e03-9483-df26ea750908",
   "metadata": {},
   "source": [
    "### LOADING .CSV FILES AND READING INTO SPARK DATAFRAMES"
   ]
  },
  {
   "cell_type": "code",
   "execution_count": 4,
   "id": "cf5cab96-4f84-4752-8eeb-6af13f0eaf82",
   "metadata": {},
   "outputs": [],
   "source": [
    "# Step 2: Read all CSV files into a list of Spark DataFrames\n",
    "df = spark.read.csv(\"eda_analysis.csv\", header=True, inferSchema=True)"
   ]
  },
  {
   "cell_type": "code",
   "execution_count": 5,
   "id": "ab7fcf4f-8410-45f3-b8a2-1cafbc9830a7",
   "metadata": {},
   "outputs": [],
   "source": [
    "def get_missing_values(df, dataframe_name):\n",
    "    # Compute missing values for each column\n",
    "    missing_df = df.select([\n",
    "        count(when(isnull(c) | isnan(c), c)).alias(c) for c in df.columns\n",
    "    ])\n",
    "    \n",
    "    # Convert to Pandas for better formatting\n",
    "    missing = missing_df.toPandas().transpose().reset_index()\n",
    "    missing.columns = ['Column', 'Missing_Count']\n",
    "    \n",
    "    # Display the missing values\n",
    "    print(f\"--- Missing Values in {dataframe_name} ---\")\n",
    "    print(missing.to_markdown(index=False))\n",
    "    print(\"\\n\")"
   ]
  },
  {
   "cell_type": "code",
   "execution_count": 6,
   "id": "53f82987-d67f-489f-b93f-b09e596715ce",
   "metadata": {},
   "outputs": [],
   "source": [
    "def get_summary_statistics(df, dataframe_name):\n",
    "    # Compute summary statistics\n",
    "    summary = df.describe().toPandas().set_index('summary').transpose()\n",
    "    \n",
    "    # Rename the index to the dataframe name for clarity\n",
    "    summary.index.name = 'Column'\n",
    "    \n",
    "    # Display the summary statistics\n",
    "    print(f\"--- Summary Statistics for {dataframe_name} ---\")\n",
    "    print(summary.to_markdown())\n",
    "    print(\"\\n\")"
   ]
  },
  {
   "cell_type": "code",
   "execution_count": 7,
   "id": "703d71e6-9b78-4d85-b0fa-1cc43dbcad1b",
   "metadata": {},
   "outputs": [
    {
     "name": "stdout",
     "output_type": "stream",
     "text": [
      " Dataframe 1: rows: 43073, columns: 29 \n"
     ]
    }
   ],
   "source": [
    "print(f\" Dataframe 1: rows: {df.count()}, columns: {len(df.columns)} \")"
   ]
  },
  {
   "cell_type": "code",
   "execution_count": 8,
   "id": "7816e4d9-7521-4d48-b59d-5815c54ac7b4",
   "metadata": {},
   "outputs": [],
   "source": [
    "cat_vars = [\"PWS_ACTIVITY_CODE\", \n",
    "            \"IS_SCHOOL_OR_DAYCARE_IND\",\n",
    "            \"SOURCE_WATER_PROTECTION_CODE\", \n",
    "            \"OUTSTANDING_PERFORMER\",\n",
    "            \"MANAGEMENT_OPS_EVAL_CODE\",\n",
    "            \"SOURCE_WATER_EVAL_CODE\",\n",
    "            \"SECURITY_EVAL_CODE\",\n",
    "            \"PUMPS_EVAL_CODE\",\n",
    "            \"OTHER_EVAL_CODE\",\n",
    "            \"COMPLIANCE_EVAL_CODE\",\n",
    "            \"DATA_VERIFICATION_EVAL_CODE\",\n",
    "            \"TREATMENT_EVAL_CODE\",\n",
    "            \"FINISHED_WATER_STOR_EVAL_CODE\",\n",
    "            \"DISTRIBUTION_EVAL_CODE\",\n",
    "            \"FINANCIAL_EVAL_CODE\",\n",
    "            \"VIOLATION_CATEGORY_CODE\",\n",
    "            \"IS_HEALTH_BASED_IND\",\n",
    "            \"IS_MAJOR_VIOL_IND\",\n",
    "            \"VIOLATION_STATUS\",\n",
    "            \"ENF_ACTION_CATEGORY\",\n",
    "           \"COMPLIANCE_STATUS\"]"
   ]
  },
  {
   "cell_type": "code",
   "execution_count": 9,
   "id": "3f34726b-4831-43da-99ca-083cbdbc3b7c",
   "metadata": {},
   "outputs": [],
   "source": [
    "num_vars = [\"TOTAL_POPULATION_SERVED_COUNT_LOG\",\n",
    "            \"TOTAL_SERVICE_CONNECTIONS_COUNT_LOG\",\n",
    "            \"VIOL_MEASURE_LOG\",\n",
    "            \"TOTAL_VIOLATIONS_LOG\",\n",
    "            \"AVG_VIOLATION_DURATION_DAYS_LOG\",\n",
    "            \"OPEN_VIOLATIONS_COUNT_LOG\",\n",
    "            \"TOTAL_LATE_COMPLIANT_ACTIONS_LOG\"\n",
    "           ]"
   ]
  },
  {
   "cell_type": "code",
   "execution_count": 10,
   "id": "5ca51686-6a35-47c8-88f5-f0a7e3af5e98",
   "metadata": {},
   "outputs": [
    {
     "name": "stdout",
     "output_type": "stream",
     "text": [
      "--- Missing Values in DATAFRAME ---\n",
      "| Column                              |   Missing_Count |\n",
      "|:------------------------------------|----------------:|\n",
      "| PWSID                               |               0 |\n",
      "| PWS_ACTIVITY_CODE                   |               0 |\n",
      "| IS_SCHOOL_OR_DAYCARE_IND            |               0 |\n",
      "| SOURCE_WATER_PROTECTION_CODE        |               0 |\n",
      "| OUTSTANDING_PERFORMER               |               0 |\n",
      "| MANAGEMENT_OPS_EVAL_CODE            |               0 |\n",
      "| SOURCE_WATER_EVAL_CODE              |               0 |\n",
      "| SECURITY_EVAL_CODE                  |               0 |\n",
      "| PUMPS_EVAL_CODE                     |               0 |\n",
      "| OTHER_EVAL_CODE                     |               0 |\n",
      "| COMPLIANCE_EVAL_CODE                |               0 |\n",
      "| DATA_VERIFICATION_EVAL_CODE         |               0 |\n",
      "| TREATMENT_EVAL_CODE                 |               0 |\n",
      "| FINISHED_WATER_STOR_EVAL_CODE       |               0 |\n",
      "| DISTRIBUTION_EVAL_CODE              |               0 |\n",
      "| FINANCIAL_EVAL_CODE                 |               0 |\n",
      "| VIOLATION_CATEGORY_CODE             |               0 |\n",
      "| IS_HEALTH_BASED_IND                 |               0 |\n",
      "| IS_MAJOR_VIOL_IND                   |               0 |\n",
      "| VIOLATION_STATUS                    |               0 |\n",
      "| ENF_ACTION_CATEGORY                 |               0 |\n",
      "| COMPLIANCE_STATUS                   |               0 |\n",
      "| TOTAL_POPULATION_SERVED_COUNT_LOG   |               0 |\n",
      "| TOTAL_SERVICE_CONNECTIONS_COUNT_LOG |               0 |\n",
      "| VIOL_MEASURE_LOG                    |               0 |\n",
      "| TOTAL_VIOLATIONS_LOG                |               0 |\n",
      "| AVG_VIOLATION_DURATION_DAYS_LOG     |               0 |\n",
      "| OPEN_VIOLATIONS_COUNT_LOG           |               0 |\n",
      "| TOTAL_LATE_COMPLIANT_ACTIONS_LOG    |               0 |\n",
      "\n",
      "\n"
     ]
    }
   ],
   "source": [
    "get_missing_values(df,  \"DATAFRAME\")"
   ]
  },
  {
   "cell_type": "code",
   "execution_count": 11,
   "id": "44af62e1-0f60-4602-8e9a-df3368fd9a5a",
   "metadata": {},
   "outputs": [],
   "source": [
    "# Pipeline stages\n",
    "stages = []\n",
    "\n",
    "# Step 1: Process categorical variables\n",
    "for col in cat_vars:\n",
    "    # StringIndexer for categorical variable\n",
    "    indexer = StringIndexer(inputCol=col, outputCol=f\"{col}_indexed\")\n",
    "    stages.append(indexer)\n",
    "\n",
    "    # OneHotEncoder for indexed variable\n",
    "    encoder = OneHotEncoder(inputCol=f\"{col}_indexed\", outputCol=f\"{col}_encoded\")\n",
    "    stages.append(encoder)\n",
    "\n",
    "# Step 2: Combine all encoded categorical and numerical columns using VectorAssembler\n",
    "# Collect encoded categorical columns and add numerical columns\n",
    "assembled_input_cols = [f\"{col}_encoded\" for col in cat_vars] + num_vars\n",
    "\n",
    "assembler = VectorAssembler(inputCols=assembled_input_cols, outputCol=\"features\")\n",
    "stages.append(assembler)\n",
    "\n",
    "# Step 3: Create the pipeline\n",
    "pipeline = Pipeline(stages=stages)\n",
    "\n",
    "# Fit and transform the data\n",
    "final_df = pipeline.fit(df).transform(df)\n",
    "\n",
    "# final_df have a \"features\" column with all categorical and numerical variables combined\n"
   ]
  },
  {
   "cell_type": "code",
   "execution_count": 12,
   "id": "fab6b4df-4946-47d3-85b6-ca9fa13daf0c",
   "metadata": {},
   "outputs": [
    {
     "name": "stdout",
     "output_type": "stream",
     "text": [
      "root\n",
      " |-- PWSID: string (nullable = true)\n",
      " |-- PWS_ACTIVITY_CODE: string (nullable = true)\n",
      " |-- IS_SCHOOL_OR_DAYCARE_IND: string (nullable = true)\n",
      " |-- SOURCE_WATER_PROTECTION_CODE: string (nullable = true)\n",
      " |-- OUTSTANDING_PERFORMER: string (nullable = true)\n",
      " |-- MANAGEMENT_OPS_EVAL_CODE: string (nullable = true)\n",
      " |-- SOURCE_WATER_EVAL_CODE: string (nullable = true)\n",
      " |-- SECURITY_EVAL_CODE: string (nullable = true)\n",
      " |-- PUMPS_EVAL_CODE: string (nullable = true)\n",
      " |-- OTHER_EVAL_CODE: string (nullable = true)\n",
      " |-- COMPLIANCE_EVAL_CODE: string (nullable = true)\n",
      " |-- DATA_VERIFICATION_EVAL_CODE: string (nullable = true)\n",
      " |-- TREATMENT_EVAL_CODE: string (nullable = true)\n",
      " |-- FINISHED_WATER_STOR_EVAL_CODE: string (nullable = true)\n",
      " |-- DISTRIBUTION_EVAL_CODE: string (nullable = true)\n",
      " |-- FINANCIAL_EVAL_CODE: string (nullable = true)\n",
      " |-- VIOLATION_CATEGORY_CODE: string (nullable = true)\n",
      " |-- IS_HEALTH_BASED_IND: string (nullable = true)\n",
      " |-- IS_MAJOR_VIOL_IND: string (nullable = true)\n",
      " |-- VIOLATION_STATUS: string (nullable = true)\n",
      " |-- ENF_ACTION_CATEGORY: string (nullable = true)\n",
      " |-- COMPLIANCE_STATUS: string (nullable = true)\n",
      " |-- TOTAL_POPULATION_SERVED_COUNT_LOG: double (nullable = true)\n",
      " |-- TOTAL_SERVICE_CONNECTIONS_COUNT_LOG: double (nullable = true)\n",
      " |-- VIOL_MEASURE_LOG: double (nullable = true)\n",
      " |-- TOTAL_VIOLATIONS_LOG: double (nullable = true)\n",
      " |-- AVG_VIOLATION_DURATION_DAYS_LOG: double (nullable = true)\n",
      " |-- OPEN_VIOLATIONS_COUNT_LOG: double (nullable = true)\n",
      " |-- TOTAL_LATE_COMPLIANT_ACTIONS_LOG: double (nullable = true)\n",
      " |-- PWS_ACTIVITY_CODE_indexed: double (nullable = false)\n",
      " |-- PWS_ACTIVITY_CODE_encoded: vector (nullable = true)\n",
      " |-- IS_SCHOOL_OR_DAYCARE_IND_indexed: double (nullable = false)\n",
      " |-- IS_SCHOOL_OR_DAYCARE_IND_encoded: vector (nullable = true)\n",
      " |-- SOURCE_WATER_PROTECTION_CODE_indexed: double (nullable = false)\n",
      " |-- SOURCE_WATER_PROTECTION_CODE_encoded: vector (nullable = true)\n",
      " |-- OUTSTANDING_PERFORMER_indexed: double (nullable = false)\n",
      " |-- OUTSTANDING_PERFORMER_encoded: vector (nullable = true)\n",
      " |-- MANAGEMENT_OPS_EVAL_CODE_indexed: double (nullable = false)\n",
      " |-- MANAGEMENT_OPS_EVAL_CODE_encoded: vector (nullable = true)\n",
      " |-- SOURCE_WATER_EVAL_CODE_indexed: double (nullable = false)\n",
      " |-- SOURCE_WATER_EVAL_CODE_encoded: vector (nullable = true)\n",
      " |-- SECURITY_EVAL_CODE_indexed: double (nullable = false)\n",
      " |-- SECURITY_EVAL_CODE_encoded: vector (nullable = true)\n",
      " |-- PUMPS_EVAL_CODE_indexed: double (nullable = false)\n",
      " |-- PUMPS_EVAL_CODE_encoded: vector (nullable = true)\n",
      " |-- OTHER_EVAL_CODE_indexed: double (nullable = false)\n",
      " |-- OTHER_EVAL_CODE_encoded: vector (nullable = true)\n",
      " |-- COMPLIANCE_EVAL_CODE_indexed: double (nullable = false)\n",
      " |-- COMPLIANCE_EVAL_CODE_encoded: vector (nullable = true)\n",
      " |-- DATA_VERIFICATION_EVAL_CODE_indexed: double (nullable = false)\n",
      " |-- DATA_VERIFICATION_EVAL_CODE_encoded: vector (nullable = true)\n",
      " |-- TREATMENT_EVAL_CODE_indexed: double (nullable = false)\n",
      " |-- TREATMENT_EVAL_CODE_encoded: vector (nullable = true)\n",
      " |-- FINISHED_WATER_STOR_EVAL_CODE_indexed: double (nullable = false)\n",
      " |-- FINISHED_WATER_STOR_EVAL_CODE_encoded: vector (nullable = true)\n",
      " |-- DISTRIBUTION_EVAL_CODE_indexed: double (nullable = false)\n",
      " |-- DISTRIBUTION_EVAL_CODE_encoded: vector (nullable = true)\n",
      " |-- FINANCIAL_EVAL_CODE_indexed: double (nullable = false)\n",
      " |-- FINANCIAL_EVAL_CODE_encoded: vector (nullable = true)\n",
      " |-- VIOLATION_CATEGORY_CODE_indexed: double (nullable = false)\n",
      " |-- VIOLATION_CATEGORY_CODE_encoded: vector (nullable = true)\n",
      " |-- IS_HEALTH_BASED_IND_indexed: double (nullable = false)\n",
      " |-- IS_HEALTH_BASED_IND_encoded: vector (nullable = true)\n",
      " |-- IS_MAJOR_VIOL_IND_indexed: double (nullable = false)\n",
      " |-- IS_MAJOR_VIOL_IND_encoded: vector (nullable = true)\n",
      " |-- VIOLATION_STATUS_indexed: double (nullable = false)\n",
      " |-- VIOLATION_STATUS_encoded: vector (nullable = true)\n",
      " |-- ENF_ACTION_CATEGORY_indexed: double (nullable = false)\n",
      " |-- ENF_ACTION_CATEGORY_encoded: vector (nullable = true)\n",
      " |-- COMPLIANCE_STATUS_indexed: double (nullable = false)\n",
      " |-- COMPLIANCE_STATUS_encoded: vector (nullable = true)\n",
      " |-- features: vector (nullable = true)\n",
      "\n"
     ]
    }
   ],
   "source": [
    "final_df.printSchema()"
   ]
  },
  {
   "cell_type": "code",
   "execution_count": 13,
   "id": "209d9189-ac2b-46d3-87a2-dd4368b32fc1",
   "metadata": {},
   "outputs": [],
   "source": [
    "# Standardize the feature vector\n",
    "scaler = StandardScaler(inputCol=\"features\", outputCol=\"scaled_features\", withMean=True, withStd=True)\n",
    "scaler_model = scaler.fit(final_df)\n",
    "scaled_data = scaler_model.transform(final_df)"
   ]
  },
  {
   "cell_type": "code",
   "execution_count": 14,
   "id": "80899160-0c3b-438d-be2f-a1efc594e778",
   "metadata": {},
   "outputs": [
    {
     "data": {
      "text/plain": [
       "DataFrame[PWSID: string, PWS_ACTIVITY_CODE: string, IS_SCHOOL_OR_DAYCARE_IND: string, SOURCE_WATER_PROTECTION_CODE: string, OUTSTANDING_PERFORMER: string, MANAGEMENT_OPS_EVAL_CODE: string, SOURCE_WATER_EVAL_CODE: string, SECURITY_EVAL_CODE: string, PUMPS_EVAL_CODE: string, OTHER_EVAL_CODE: string, COMPLIANCE_EVAL_CODE: string, DATA_VERIFICATION_EVAL_CODE: string, TREATMENT_EVAL_CODE: string, FINISHED_WATER_STOR_EVAL_CODE: string, DISTRIBUTION_EVAL_CODE: string, FINANCIAL_EVAL_CODE: string, VIOLATION_CATEGORY_CODE: string, IS_HEALTH_BASED_IND: string, IS_MAJOR_VIOL_IND: string, VIOLATION_STATUS: string, ENF_ACTION_CATEGORY: string, COMPLIANCE_STATUS: string, TOTAL_POPULATION_SERVED_COUNT_LOG: double, TOTAL_SERVICE_CONNECTIONS_COUNT_LOG: double, VIOL_MEASURE_LOG: double, TOTAL_VIOLATIONS_LOG: double, AVG_VIOLATION_DURATION_DAYS_LOG: double, OPEN_VIOLATIONS_COUNT_LOG: double, TOTAL_LATE_COMPLIANT_ACTIONS_LOG: double, PWS_ACTIVITY_CODE_indexed: double, PWS_ACTIVITY_CODE_encoded: vector, IS_SCHOOL_OR_DAYCARE_IND_indexed: double, IS_SCHOOL_OR_DAYCARE_IND_encoded: vector, SOURCE_WATER_PROTECTION_CODE_indexed: double, SOURCE_WATER_PROTECTION_CODE_encoded: vector, OUTSTANDING_PERFORMER_indexed: double, OUTSTANDING_PERFORMER_encoded: vector, MANAGEMENT_OPS_EVAL_CODE_indexed: double, MANAGEMENT_OPS_EVAL_CODE_encoded: vector, SOURCE_WATER_EVAL_CODE_indexed: double, SOURCE_WATER_EVAL_CODE_encoded: vector, SECURITY_EVAL_CODE_indexed: double, SECURITY_EVAL_CODE_encoded: vector, PUMPS_EVAL_CODE_indexed: double, PUMPS_EVAL_CODE_encoded: vector, OTHER_EVAL_CODE_indexed: double, OTHER_EVAL_CODE_encoded: vector, COMPLIANCE_EVAL_CODE_indexed: double, COMPLIANCE_EVAL_CODE_encoded: vector, DATA_VERIFICATION_EVAL_CODE_indexed: double, DATA_VERIFICATION_EVAL_CODE_encoded: vector, TREATMENT_EVAL_CODE_indexed: double, TREATMENT_EVAL_CODE_encoded: vector, FINISHED_WATER_STOR_EVAL_CODE_indexed: double, FINISHED_WATER_STOR_EVAL_CODE_encoded: vector, DISTRIBUTION_EVAL_CODE_indexed: double, DISTRIBUTION_EVAL_CODE_encoded: vector, FINANCIAL_EVAL_CODE_indexed: double, FINANCIAL_EVAL_CODE_encoded: vector, VIOLATION_CATEGORY_CODE_indexed: double, VIOLATION_CATEGORY_CODE_encoded: vector, IS_HEALTH_BASED_IND_indexed: double, IS_HEALTH_BASED_IND_encoded: vector, IS_MAJOR_VIOL_IND_indexed: double, IS_MAJOR_VIOL_IND_encoded: vector, VIOLATION_STATUS_indexed: double, VIOLATION_STATUS_encoded: vector, ENF_ACTION_CATEGORY_indexed: double, ENF_ACTION_CATEGORY_encoded: vector, COMPLIANCE_STATUS_indexed: double, COMPLIANCE_STATUS_encoded: vector, features: vector, scaled_features: vector]"
      ]
     },
     "execution_count": 14,
     "metadata": {},
     "output_type": "execute_result"
    }
   ],
   "source": [
    "scaled_data.cache()"
   ]
  },
  {
   "cell_type": "code",
   "execution_count": 15,
   "id": "48e97804-9626-4375-adac-746de924fd0b",
   "metadata": {},
   "outputs": [],
   "source": [
    "# Extract 'features' column from PySpark DataFrame and convert it to Pandas\n",
    "pandas_df = scaled_data.select('scaled_features').toPandas()\n",
    "\n",
    "# Convert the PySpark vector to a NumPy array that can be used in sklearn\n",
    "X = np.array(pandas_df['scaled_features'].tolist())"
   ]
  },
  {
   "cell_type": "code",
   "execution_count": 16,
   "id": "e6f65e19-161a-4d47-ad68-a4996ae02ef6",
   "metadata": {},
   "outputs": [],
   "source": [
    "df_scaled = scaled_data.toPandas()"
   ]
  },
  {
   "cell_type": "code",
   "execution_count": 17,
   "id": "469e1de1-d657-41e5-8541-6c69785765bf",
   "metadata": {},
   "outputs": [],
   "source": [
    "# Define range of number of clusters for KMeans\n",
    "n_clusters_values = np.arange(2, 11, 1)  # Trying 2 to 10 clusters\n",
    "results = []\n",
    "\n",
    "for n_clusters in n_clusters_values:\n",
    "    # Initialize and fit KMeans with the current number of clusters\n",
    "    kmeans = KMeans(n_clusters=n_clusters, random_state=42)\n",
    "    labels = kmeans.fit_predict(X)\n",
    "    \n",
    "    # Check if there are at least 2 clusters\n",
    "    unique_labels = set(labels)\n",
    "    num_clusters = len(unique_labels)\n",
    "    \n",
    "    if num_clusters > 1:\n",
    "        # Filter out noise points (if any, or just calculate metrics for valid clusters)\n",
    "        clustered_points = X\n",
    "        valid_labels = labels\n",
    "        \n",
    "        # Calculate metrics\n",
    "        silhouette = silhouette_score(clustered_points, valid_labels)\n",
    "        davies_bouldin = davies_bouldin_score(clustered_points, valid_labels)\n",
    "        calinski_harabasz = calinski_harabasz_score(clustered_points, valid_labels)\n",
    "        \n",
    "        # Store results\n",
    "        results.append([n_clusters, silhouette, davies_bouldin, calinski_harabasz])\n",
    "    else:\n",
    "        # Store results for the case where there are insufficient clusters\n",
    "        results.append([n_clusters, None, None, None])\n",
    "\n",
    "# Create a DataFrame for better visualization\n",
    "df_results = pd.DataFrame(results, columns=[\"Number of Clusters\", \"Silhouette Score\", \"Davies-Bouldin Score\", \"Calinski-Harabasz Score\"])"
   ]
  },
  {
   "cell_type": "code",
   "execution_count": 19,
   "id": "88c0b16d-0070-4b0b-8f40-7a27e22c3b79",
   "metadata": {},
   "outputs": [
    {
     "data": {
      "text/html": [
       "<div>\n",
       "<style scoped>\n",
       "    .dataframe tbody tr th:only-of-type {\n",
       "        vertical-align: middle;\n",
       "    }\n",
       "\n",
       "    .dataframe tbody tr th {\n",
       "        vertical-align: top;\n",
       "    }\n",
       "\n",
       "    .dataframe thead th {\n",
       "        text-align: right;\n",
       "    }\n",
       "</style>\n",
       "<table border=\"1\" class=\"dataframe\">\n",
       "  <thead>\n",
       "    <tr style=\"text-align: right;\">\n",
       "      <th></th>\n",
       "      <th>Number of Clusters</th>\n",
       "      <th>Silhouette Score</th>\n",
       "      <th>Davies-Bouldin Score</th>\n",
       "      <th>Calinski-Harabasz Score</th>\n",
       "    </tr>\n",
       "  </thead>\n",
       "  <tbody>\n",
       "    <tr>\n",
       "      <th>0</th>\n",
       "      <td>2</td>\n",
       "      <td>0.188058</td>\n",
       "      <td>1.573361</td>\n",
       "      <td>7199.624724</td>\n",
       "    </tr>\n",
       "    <tr>\n",
       "      <th>1</th>\n",
       "      <td>3</td>\n",
       "      <td>0.232875</td>\n",
       "      <td>1.382103</td>\n",
       "      <td>7465.788314</td>\n",
       "    </tr>\n",
       "    <tr>\n",
       "      <th>2</th>\n",
       "      <td>4</td>\n",
       "      <td>0.249070</td>\n",
       "      <td>2.016873</td>\n",
       "      <td>6265.193466</td>\n",
       "    </tr>\n",
       "    <tr>\n",
       "      <th>3</th>\n",
       "      <td>5</td>\n",
       "      <td>0.159385</td>\n",
       "      <td>2.193434</td>\n",
       "      <td>5460.495107</td>\n",
       "    </tr>\n",
       "    <tr>\n",
       "      <th>4</th>\n",
       "      <td>6</td>\n",
       "      <td>0.156173</td>\n",
       "      <td>2.369992</td>\n",
       "      <td>4893.668278</td>\n",
       "    </tr>\n",
       "    <tr>\n",
       "      <th>5</th>\n",
       "      <td>7</td>\n",
       "      <td>0.149919</td>\n",
       "      <td>2.340006</td>\n",
       "      <td>4443.248946</td>\n",
       "    </tr>\n",
       "    <tr>\n",
       "      <th>6</th>\n",
       "      <td>8</td>\n",
       "      <td>0.145818</td>\n",
       "      <td>2.324859</td>\n",
       "      <td>4007.501030</td>\n",
       "    </tr>\n",
       "    <tr>\n",
       "      <th>7</th>\n",
       "      <td>9</td>\n",
       "      <td>0.142511</td>\n",
       "      <td>2.356410</td>\n",
       "      <td>3731.005448</td>\n",
       "    </tr>\n",
       "    <tr>\n",
       "      <th>8</th>\n",
       "      <td>10</td>\n",
       "      <td>0.150593</td>\n",
       "      <td>2.240781</td>\n",
       "      <td>3473.036571</td>\n",
       "    </tr>\n",
       "  </tbody>\n",
       "</table>\n",
       "</div>"
      ],
      "text/plain": [
       "   Number of Clusters  Silhouette Score  Davies-Bouldin Score  \\\n",
       "0                   2          0.188058              1.573361   \n",
       "1                   3          0.232875              1.382103   \n",
       "2                   4          0.249070              2.016873   \n",
       "3                   5          0.159385              2.193434   \n",
       "4                   6          0.156173              2.369992   \n",
       "5                   7          0.149919              2.340006   \n",
       "6                   8          0.145818              2.324859   \n",
       "7                   9          0.142511              2.356410   \n",
       "8                  10          0.150593              2.240781   \n",
       "\n",
       "   Calinski-Harabasz Score  \n",
       "0              7199.624724  \n",
       "1              7465.788314  \n",
       "2              6265.193466  \n",
       "3              5460.495107  \n",
       "4              4893.668278  \n",
       "5              4443.248946  \n",
       "6              4007.501030  \n",
       "7              3731.005448  \n",
       "8              3473.036571  "
      ]
     },
     "execution_count": 19,
     "metadata": {},
     "output_type": "execute_result"
    }
   ],
   "source": [
    "df_results"
   ]
  },
  {
   "cell_type": "code",
   "execution_count": 20,
   "id": "ed1a5a30-31d0-4c4d-a5b3-6a292afa83c4",
   "metadata": {},
   "outputs": [],
   "source": [
    "# Define range of number of clusters\n",
    "n_clusters_range = range(2, 20)\n",
    "\n",
    "# Initialize lists to store the metrics\n",
    "wcss = []  # For the Elbow Plot\n",
    "silhouette_scores = []  # For the Silhouette Plot\n",
    "\n",
    "# Loop through each number of clusters\n",
    "for n_clusters in n_clusters_range:\n",
    "    # Initialize and fit KMeans\n",
    "    kmeans = KMeans(n_clusters=n_clusters, random_state=42)\n",
    "    kmeans.fit(X)\n",
    "    \n",
    "    # Calculate WCSS (inertia)\n",
    "    wcss.append(kmeans.inertia_)\n",
    "    \n",
    "    # Calculate silhouette score only if we have more than one cluster\n",
    "    if n_clusters > 1:\n",
    "        silhouette_avg = silhouette_score(X, kmeans.labels_)\n",
    "        silhouette_scores.append(silhouette_avg)\n",
    "    else:\n",
    "        silhouette_scores.append(np.nan)  # Not defined for single cluster\n"
   ]
  },
  {
   "cell_type": "markdown",
   "id": "aff2087e-5f50-4f8e-86e8-c3c6182ea085",
   "metadata": {},
   "source": [
    "Elbow Plot"
   ]
  },
  {
   "cell_type": "code",
   "execution_count": 21,
   "id": "15918c53-3fb1-4f40-bb04-0438afe4d14b",
   "metadata": {},
   "outputs": [
    {
     "data": {
      "image/png": "[encoded data removed]",
      "text/plain": [
       "<Figure size 1000x500 with 1 Axes>"
      ]
     },
     "metadata": {},
     "output_type": "display_data"
    }
   ],
   "source": [
    "plt.figure(figsize=(10, 5))\n",
    "plt.plot(n_clusters_range, wcss, marker='o')\n",
    "plt.title(\"Elbow Plot for Optimal Number of Clusters\")\n",
    "plt.xlabel(\"Number of Clusters\")\n",
    "plt.ylabel(\"Within-Cluster Sum of Square Errors (WCSS)\")\n",
    "plt.grid(True)\n",
    "plt.show()"
   ]
  },
  {
   "cell_type": "markdown",
   "id": "ac99229b-2198-4f35-8b4b-9d7e8e7e585e",
   "metadata": {},
   "source": [
    "Silhoutte Plot"
   ]
  },
  {
   "cell_type": "code",
   "execution_count": 22,
   "id": "d262cbd3-fdae-4500-a784-ac3354e7decb",
   "metadata": {},
   "outputs": [
    {
     "data": {
      "image/png": "[encoded data removed]",
      "text/plain": [
       "<Figure size 1000x500 with 1 Axes>"
      ]
     },
     "metadata": {},
     "output_type": "display_data"
    }
   ],
   "source": [
    "plt.figure(figsize=(10, 5))\n",
    "plt.plot(n_clusters_range, silhouette_scores, marker='o', color='orange')\n",
    "plt.title(\"Silhouette Plot for Optimal Number of Clusters\")\n",
    "plt.xlabel(\"Number of Clusters\")\n",
    "plt.ylabel(\"Average Silhouette Score\")\n",
    "plt.grid(True)\n",
    "plt.show()"
   ]
  },
  {
   "cell_type": "code",
   "execution_count": 23,
   "id": "da46f926-1897-4666-a136-55fb9f6a3390",
   "metadata": {},
   "outputs": [],
   "source": [
    "# Apply KMeans\n",
    "kmeans = KMeans(n_clusters=4, random_state=0)\n",
    "df_scaled['Cluster'] = kmeans.fit_predict(X)"
   ]
  },
  {
   "cell_type": "code",
   "execution_count": 24,
   "id": "713767f8-be95-4e2c-ab99-d42e2e0f0c0f",
   "metadata": {},
   "outputs": [],
   "source": [
    "# Cluster distribution\n",
    "cluster_counts = df_scaled['Cluster'].value_counts()\n",
    "cluster_percentages = (df_scaled['Cluster'].value_counts(normalize=True) * 100).round(2)\n",
    "\n",
    "# Summary DataFrame\n",
    "cluster_summary = pd.DataFrame({\n",
    "    'Cluster Count': cluster_counts,\n",
    "    'Cluster Percentage (%)': cluster_percentages\n",
    "})"
   ]
  },
  {
   "cell_type": "code",
   "execution_count": 25,
   "id": "cf0bd68b-2dd7-42b4-8281-961dcc9eaf50",
   "metadata": {},
   "outputs": [
    {
     "data": {
      "text/html": [
       "<div>\n",
       "<style scoped>\n",
       "    .dataframe tbody tr th:only-of-type {\n",
       "        vertical-align: middle;\n",
       "    }\n",
       "\n",
       "    .dataframe tbody tr th {\n",
       "        vertical-align: top;\n",
       "    }\n",
       "\n",
       "    .dataframe thead th {\n",
       "        text-align: right;\n",
       "    }\n",
       "</style>\n",
       "<table border=\"1\" class=\"dataframe\">\n",
       "  <thead>\n",
       "    <tr style=\"text-align: right;\">\n",
       "      <th></th>\n",
       "      <th>Cluster Count</th>\n",
       "      <th>Cluster Percentage (%)</th>\n",
       "    </tr>\n",
       "    <tr>\n",
       "      <th>Cluster</th>\n",
       "      <th></th>\n",
       "      <th></th>\n",
       "    </tr>\n",
       "  </thead>\n",
       "  <tbody>\n",
       "    <tr>\n",
       "      <th>2</th>\n",
       "      <td>28581</td>\n",
       "      <td>66.35</td>\n",
       "    </tr>\n",
       "    <tr>\n",
       "      <th>1</th>\n",
       "      <td>8283</td>\n",
       "      <td>19.23</td>\n",
       "    </tr>\n",
       "    <tr>\n",
       "      <th>3</th>\n",
       "      <td>3584</td>\n",
       "      <td>8.32</td>\n",
       "    </tr>\n",
       "    <tr>\n",
       "      <th>0</th>\n",
       "      <td>2625</td>\n",
       "      <td>6.09</td>\n",
       "    </tr>\n",
       "  </tbody>\n",
       "</table>\n",
       "</div>"
      ],
      "text/plain": [
       "         Cluster Count  Cluster Percentage (%)\n",
       "Cluster                                       \n",
       "2                28581                   66.35\n",
       "1                 8283                   19.23\n",
       "3                 3584                    8.32\n",
       "0                 2625                    6.09"
      ]
     },
     "execution_count": 25,
     "metadata": {},
     "output_type": "execute_result"
    }
   ],
   "source": [
    "cluster_summary"
   ]
  },
  {
   "cell_type": "code",
   "execution_count": 26,
   "id": "e3a29688-85d1-4e94-8a12-2983bef26d11",
   "metadata": {},
   "outputs": [],
   "source": [
    "# Apply KMeans\n",
    "kmeans = KMeans(n_clusters=5, random_state=0)\n",
    "df_scaled['Cluster_5'] = kmeans.fit_predict(X)"
   ]
  },
  {
   "cell_type": "code",
   "execution_count": 27,
   "id": "de5513e6-f934-4fb2-9f3f-46bba1c6feb5",
   "metadata": {},
   "outputs": [],
   "source": [
    "# Cluster distribution\n",
    "cluster_counts = df_scaled['Cluster_5'].value_counts()\n",
    "cluster_percentages = (df_scaled['Cluster_5'].value_counts(normalize=True) * 100).round(2)\n",
    "\n",
    "# Summary DataFrame\n",
    "cluster_summary = pd.DataFrame({\n",
    "    'Cluster Count': cluster_counts,\n",
    "    'Cluster Percentage (%)': cluster_percentages\n",
    "})"
   ]
  },
  {
   "cell_type": "code",
   "execution_count": 28,
   "id": "bf8163db-7fc1-4b20-8086-07a10672f510",
   "metadata": {},
   "outputs": [
    {
     "data": {
      "text/html": [
       "<div>\n",
       "<style scoped>\n",
       "    .dataframe tbody tr th:only-of-type {\n",
       "        vertical-align: middle;\n",
       "    }\n",
       "\n",
       "    .dataframe tbody tr th {\n",
       "        vertical-align: top;\n",
       "    }\n",
       "\n",
       "    .dataframe thead th {\n",
       "        text-align: right;\n",
       "    }\n",
       "</style>\n",
       "<table border=\"1\" class=\"dataframe\">\n",
       "  <thead>\n",
       "    <tr style=\"text-align: right;\">\n",
       "      <th></th>\n",
       "      <th>Cluster Count</th>\n",
       "      <th>Cluster Percentage (%)</th>\n",
       "    </tr>\n",
       "    <tr>\n",
       "      <th>Cluster_5</th>\n",
       "      <th></th>\n",
       "      <th></th>\n",
       "    </tr>\n",
       "  </thead>\n",
       "  <tbody>\n",
       "    <tr>\n",
       "      <th>3</th>\n",
       "      <td>21950</td>\n",
       "      <td>50.96</td>\n",
       "    </tr>\n",
       "    <tr>\n",
       "      <th>1</th>\n",
       "      <td>8155</td>\n",
       "      <td>18.93</td>\n",
       "    </tr>\n",
       "    <tr>\n",
       "      <th>0</th>\n",
       "      <td>7296</td>\n",
       "      <td>16.94</td>\n",
       "    </tr>\n",
       "    <tr>\n",
       "      <th>2</th>\n",
       "      <td>3051</td>\n",
       "      <td>7.08</td>\n",
       "    </tr>\n",
       "    <tr>\n",
       "      <th>4</th>\n",
       "      <td>2621</td>\n",
       "      <td>6.09</td>\n",
       "    </tr>\n",
       "  </tbody>\n",
       "</table>\n",
       "</div>"
      ],
      "text/plain": [
       "           Cluster Count  Cluster Percentage (%)\n",
       "Cluster_5                                       \n",
       "3                  21950                   50.96\n",
       "1                   8155                   18.93\n",
       "0                   7296                   16.94\n",
       "2                   3051                    7.08\n",
       "4                   2621                    6.09"
      ]
     },
     "execution_count": 28,
     "metadata": {},
     "output_type": "execute_result"
    }
   ],
   "source": [
    "cluster_summary"
   ]
  },
  {
   "cell_type": "code",
   "execution_count": 36,
   "id": "05610bcb-2b78-49b0-a4f7-44501bb5bb93",
   "metadata": {},
   "outputs": [],
   "source": [
    "# Set index=True to save the DataFrame index\n",
    "df_scaled.to_csv('C:/Users/june3/OneDrive/Desktop/my_output_result/km5.csv', index=False) "
   ]
  },
  {
   "cell_type": "code",
   "execution_count": 27,
   "id": "df36885f-33ec-4f9e-939e-ba852e03baa3",
   "metadata": {},
   "outputs": [],
   "source": [
    "spark.stop()"
   ]
  }
 ],
 "metadata": {
  "kernelspec": {
   "display_name": "pyspark",
   "language": "python",
   "name": "pyspark"
  },
  "language_info": {
   "codemirror_mode": {
    "name": "ipython",
    "version": 3
   },
   "file_extension": ".py",
   "mimetype": "text/x-python",
   "name": "python",
   "nbconvert_exporter": "python",
   "pygments_lexer": "ipython3",
   "version": "3.12.5"
  }
 },
 "nbformat": 4,
 "nbformat_minor": 5
}
